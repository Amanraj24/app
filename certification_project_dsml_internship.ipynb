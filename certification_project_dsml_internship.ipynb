{
  "nbformat": 4,
  "nbformat_minor": 0,
  "metadata": {
    "colab": {
      "provenance": [],
      "authorship_tag": "ABX9TyNleG3/U55eAb75QPP9GarD",
      "include_colab_link": true
    },
    "kernelspec": {
      "name": "python3",
      "display_name": "Python 3"
    },
    "language_info": {
      "name": "python"
    }
  },
  "cells": [
    {
      "cell_type": "markdown",
      "metadata": {
        "id": "view-in-github",
        "colab_type": "text"
      },
      "source": [
        "<a href=\"https://colab.research.google.com/github/Amanraj24/app/blob/main/certification_project_dsml_internship.ipynb\" target=\"_parent\"><img src=\"https://colab.research.google.com/assets/colab-badge.svg\" alt=\"Open In Colab\"/></a>"
      ]
    },
    {
      "cell_type": "markdown",
      "source": [
        "<h1>Certification Project</h1>"
      ],
      "metadata": {
        "id": "Q8Q_-oGk4XpG"
      }
    },
    {
      "cell_type": "markdown",
      "source": [
        "<h2 >link of Recomander System web App</h2>\n",
        "<h3><a href=\"https://amanraj24-app-recommander-system-z3dy0d.streamlitapp.com/\">https://amanraj24-app-recommander-system-z3dy0d.streamlitapp.com/</a></h3>\n",
        "<h2>link of Github Repository</h2>\n",
        "<h3><a href=\"https://github.com/Amanraj24/app\">https://github.com/Amanraj24/app</a></h3>"
      ],
      "metadata": {
        "id": "rqOJr3VS4i3Q"
      }
    },
    {
      "cell_type": "code",
      "source": [
        "import pandas as pd"
      ],
      "metadata": {
        "id": "FYk7AChpD-Q6"
      },
      "execution_count": null,
      "outputs": []
    },
    {
      "cell_type": "code",
      "source": [
        "import ipywidgets as widg\n",
        "from IPython.display import display"
      ],
      "metadata": {
        "id": "Dk8xwuiZKTdt"
      },
      "execution_count": null,
      "outputs": []
    },
    {
      "cell_type": "code",
      "execution_count": null,
      "metadata": {
        "colab": {
          "base_uri": "https://localhost:8080/"
        },
        "id": "4Wo6aX2iBvJK",
        "outputId": "e01bb2d2-f7e1-45ce-dc27-5222d9da1579"
      },
      "outputs": [
        {
          "output_type": "stream",
          "name": "stdout",
          "text": [
            "--2022-09-14 23:52:09--  https://www.dropbox.com/s/yy6zxp5heep5hhx/movies.csv\n",
            "Resolving www.dropbox.com (www.dropbox.com)... 162.125.6.18, 2620:100:6019:18::a27d:412\n",
            "Connecting to www.dropbox.com (www.dropbox.com)|162.125.6.18|:443... connected.\n",
            "HTTP request sent, awaiting response... 302 Found\n",
            "Location: /s/raw/yy6zxp5heep5hhx/movies.csv [following]\n",
            "--2022-09-14 23:52:09--  https://www.dropbox.com/s/raw/yy6zxp5heep5hhx/movies.csv\n",
            "Reusing existing connection to www.dropbox.com:443.\n",
            "HTTP request sent, awaiting response... 302 Found\n",
            "Location: https://ucb53d125e3c46affff8c7f74423.dl.dropboxusercontent.com/cd/0/inline/Bs9f-Hgh9cS2sXI2cHPm6ccxhxzXciV7ZJFMO4zBuyQukAS1PVHnVdF8R4kB25dhOOH-gFOlh6zlPhwPjhL65UvWmCjzYu8dcsBMtCtT5ERyyTXjhPn0Oo-Em7tuteHjTEvIJMNvaWg0VGaEr-zcgLoZYiTRuXNT9bMzCuIRcnnL0Q/file# [following]\n",
            "--2022-09-14 23:52:10--  https://ucb53d125e3c46affff8c7f74423.dl.dropboxusercontent.com/cd/0/inline/Bs9f-Hgh9cS2sXI2cHPm6ccxhxzXciV7ZJFMO4zBuyQukAS1PVHnVdF8R4kB25dhOOH-gFOlh6zlPhwPjhL65UvWmCjzYu8dcsBMtCtT5ERyyTXjhPn0Oo-Em7tuteHjTEvIJMNvaWg0VGaEr-zcgLoZYiTRuXNT9bMzCuIRcnnL0Q/file\n",
            "Resolving ucb53d125e3c46affff8c7f74423.dl.dropboxusercontent.com (ucb53d125e3c46affff8c7f74423.dl.dropboxusercontent.com)... 162.125.6.15, 2620:100:6019:15::a27d:40f\n",
            "Connecting to ucb53d125e3c46affff8c7f74423.dl.dropboxusercontent.com (ucb53d125e3c46affff8c7f74423.dl.dropboxusercontent.com)|162.125.6.15|:443... connected.\n",
            "HTTP request sent, awaiting response... 200 OK\n",
            "Length: 515699 (504K) [text/plain]\n",
            "Saving to: ‘movies.csv’\n",
            "\n",
            "movies.csv          100%[===================>] 503.61K  --.-KB/s    in 0.005s  \n",
            "\n",
            "2022-09-14 23:52:10 (94.8 MB/s) - ‘movies.csv’ saved [515699/515699]\n",
            "\n"
          ]
        }
      ],
      "source": [
        "!wget https://www.dropbox.com/s/yy6zxp5heep5hhx/movies.csv"
      ]
    },
    {
      "cell_type": "code",
      "source": [
        "!wget https://www.dropbox.com/s/mzb5fdje98sqh3k/ratings.csv"
      ],
      "metadata": {
        "colab": {
          "base_uri": "https://localhost:8080/"
        },
        "id": "MbImAw91B-5P",
        "outputId": "81e2be76-6274-4cfb-bf68-cec70d64e334"
      },
      "execution_count": null,
      "outputs": [
        {
          "output_type": "stream",
          "name": "stdout",
          "text": [
            "--2022-09-14 23:52:15--  https://www.dropbox.com/s/mzb5fdje98sqh3k/ratings.csv\n",
            "Resolving www.dropbox.com (www.dropbox.com)... 162.125.6.18, 2620:100:6019:18::a27d:412\n",
            "Connecting to www.dropbox.com (www.dropbox.com)|162.125.6.18|:443... connected.\n",
            "HTTP request sent, awaiting response... 302 Found\n",
            "Location: /s/raw/mzb5fdje98sqh3k/ratings.csv [following]\n",
            "--2022-09-14 23:52:15--  https://www.dropbox.com/s/raw/mzb5fdje98sqh3k/ratings.csv\n",
            "Reusing existing connection to www.dropbox.com:443.\n",
            "HTTP request sent, awaiting response... 302 Found\n",
            "Location: https://ucc28776483f68ad75e45ac2c7e2.dl.dropboxusercontent.com/cd/0/inline/Bs8H8tyPXRznLQM8XL-L4HoZ5EkprwFhxd7YBFGUqk3uDujzwOvDpEJoH0pUnj3yqTd8lL_Xpk29NySQscrywlVNdpYhti38gwlTE-9fr198pvEtjnTOCzUmkC4cUi3ndp1soNXgOMFzz9K_1L0PQHV_9-arn1jP969HC37VKAskrg/file# [following]\n",
            "--2022-09-14 23:52:15--  https://ucc28776483f68ad75e45ac2c7e2.dl.dropboxusercontent.com/cd/0/inline/Bs8H8tyPXRznLQM8XL-L4HoZ5EkprwFhxd7YBFGUqk3uDujzwOvDpEJoH0pUnj3yqTd8lL_Xpk29NySQscrywlVNdpYhti38gwlTE-9fr198pvEtjnTOCzUmkC4cUi3ndp1soNXgOMFzz9K_1L0PQHV_9-arn1jP969HC37VKAskrg/file\n",
            "Resolving ucc28776483f68ad75e45ac2c7e2.dl.dropboxusercontent.com (ucc28776483f68ad75e45ac2c7e2.dl.dropboxusercontent.com)... 162.125.6.15, 2620:100:601f:15::a27d:90f\n",
            "Connecting to ucc28776483f68ad75e45ac2c7e2.dl.dropboxusercontent.com (ucc28776483f68ad75e45ac2c7e2.dl.dropboxusercontent.com)|162.125.6.15|:443... connected.\n",
            "HTTP request sent, awaiting response... 200 OK\n",
            "Length: 2475052 (2.4M) [text/plain]\n",
            "Saving to: ‘ratings.csv’\n",
            "\n",
            "ratings.csv         100%[===================>]   2.36M  --.-KB/s    in 0.01s   \n",
            "\n",
            "2022-09-14 23:52:15 (193 MB/s) - ‘ratings.csv’ saved [2475052/2475052]\n",
            "\n"
          ]
        }
      ]
    },
    {
      "cell_type": "code",
      "source": [
        "movies=pd.read_csv(\"movies.csv\")\n",
        "ratings=pd.read_csv(\"ratings.csv\")"
      ],
      "metadata": {
        "id": "Sdg5tG3HDUQF"
      },
      "execution_count": null,
      "outputs": []
    },
    {
      "cell_type": "code",
      "source": [],
      "metadata": {
        "id": "ivWicuKab7P8"
      },
      "execution_count": null,
      "outputs": []
    },
    {
      "cell_type": "code",
      "source": [
        "merged_left = pd.merge(left=movies, right=ratings, how='left', left_on='movieId', right_on='movieId')"
      ],
      "metadata": {
        "id": "skNTHRwkwiAY"
      },
      "execution_count": null,
      "outputs": []
    },
    {
      "cell_type": "markdown",
      "source": [
        "<h1>Popularity-Based Recommender System</h1>"
      ],
      "metadata": {
        "id": "qstfpd-p4LcW"
      }
    },
    {
      "cell_type": "code",
      "source": [
        "#ipywidgets.Text() not working in colab so inputs are simply taken by input()\n",
        "ge=input(\"Genre(g):\")\n",
        "th=int(input(\"Minimum reviews threshold(t):\"))\n",
        "re=int(input(\"Num recommendations (N) :\"))"
      ],
      "metadata": {
        "colab": {
          "base_uri": "https://localhost:8080/"
        },
        "id": "VmVthzitYgEB",
        "outputId": "7395851a-78f5-462e-ed12-4a2248c4499f"
      },
      "execution_count": null,
      "outputs": [
        {
          "name": "stdout",
          "output_type": "stream",
          "text": [
            "Genre(g):Comedy\n",
            "Minimum reviews threshold(t):100\n",
            "Num recommendations (N) :5\n"
          ]
        }
      ]
    },
    {
      "cell_type": "code",
      "source": [
        "out=merged_left[merged_left[\"genres\"]==ge ].sort_values(by=[\"genres\",\"rating\",\"userId\"], ascending=False)"
      ],
      "metadata": {
        "id": "y2yKCIgQYalu"
      },
      "execution_count": null,
      "outputs": []
    },
    {
      "cell_type": "code",
      "source": [
        "out.head()"
      ],
      "metadata": {
        "colab": {
          "base_uri": "https://localhost:8080/",
          "height": 389
        },
        "id": "c7nNR4Loe-C8",
        "outputId": "1933c829-d88f-49b5-ed0f-fc373956ae7f"
      },
      "execution_count": null,
      "outputs": [
        {
          "output_type": "execute_result",
          "data": {
            "text/plain": [
              "   movieId                   title  genres  userId  rating     timestamp  \\\n",
              "0      223           Clerks (1994)  Comedy   666.0     5.0  1.021278e+09   \n",
              "1     1394  Raising Arizona (1987)  Comedy   666.0     5.0  1.021281e+09   \n",
              "2     2109        Jerk, The (1979)  Comedy   666.0     5.0  1.021277e+09   \n",
              "3     2599         Election (1999)  Comedy   666.0     5.0  1.021278e+09   \n",
              "4   111617          Blended (2014)  Comedy   664.0     5.0  1.423497e+09   \n",
              "\n",
              "   Num Reviews             Movie Title  Average Movie Rating  \n",
              "0          666           Clerks (1994)                   5.0  \n",
              "1          666  Raising Arizona (1987)                   5.0  \n",
              "2          666        Jerk, The (1979)                   5.0  \n",
              "3          666         Election (1999)                   5.0  \n",
              "4          664          Blended (2014)                   5.0  "
            ],
            "text/html": [
              "\n",
              "  <div id=\"df-d4ca9f8f-6e70-47ed-ac76-108087ef1fe9\">\n",
              "    <div class=\"colab-df-container\">\n",
              "      <div>\n",
              "<style scoped>\n",
              "    .dataframe tbody tr th:only-of-type {\n",
              "        vertical-align: middle;\n",
              "    }\n",
              "\n",
              "    .dataframe tbody tr th {\n",
              "        vertical-align: top;\n",
              "    }\n",
              "\n",
              "    .dataframe thead th {\n",
              "        text-align: right;\n",
              "    }\n",
              "</style>\n",
              "<table border=\"1\" class=\"dataframe\">\n",
              "  <thead>\n",
              "    <tr style=\"text-align: right;\">\n",
              "      <th></th>\n",
              "      <th>movieId</th>\n",
              "      <th>title</th>\n",
              "      <th>genres</th>\n",
              "      <th>userId</th>\n",
              "      <th>rating</th>\n",
              "      <th>timestamp</th>\n",
              "      <th>Num Reviews</th>\n",
              "      <th>Movie Title</th>\n",
              "      <th>Average Movie Rating</th>\n",
              "    </tr>\n",
              "  </thead>\n",
              "  <tbody>\n",
              "    <tr>\n",
              "      <th>0</th>\n",
              "      <td>223</td>\n",
              "      <td>Clerks (1994)</td>\n",
              "      <td>Comedy</td>\n",
              "      <td>666.0</td>\n",
              "      <td>5.0</td>\n",
              "      <td>1.021278e+09</td>\n",
              "      <td>666</td>\n",
              "      <td>Clerks (1994)</td>\n",
              "      <td>5.0</td>\n",
              "    </tr>\n",
              "    <tr>\n",
              "      <th>1</th>\n",
              "      <td>1394</td>\n",
              "      <td>Raising Arizona (1987)</td>\n",
              "      <td>Comedy</td>\n",
              "      <td>666.0</td>\n",
              "      <td>5.0</td>\n",
              "      <td>1.021281e+09</td>\n",
              "      <td>666</td>\n",
              "      <td>Raising Arizona (1987)</td>\n",
              "      <td>5.0</td>\n",
              "    </tr>\n",
              "    <tr>\n",
              "      <th>2</th>\n",
              "      <td>2109</td>\n",
              "      <td>Jerk, The (1979)</td>\n",
              "      <td>Comedy</td>\n",
              "      <td>666.0</td>\n",
              "      <td>5.0</td>\n",
              "      <td>1.021277e+09</td>\n",
              "      <td>666</td>\n",
              "      <td>Jerk, The (1979)</td>\n",
              "      <td>5.0</td>\n",
              "    </tr>\n",
              "    <tr>\n",
              "      <th>3</th>\n",
              "      <td>2599</td>\n",
              "      <td>Election (1999)</td>\n",
              "      <td>Comedy</td>\n",
              "      <td>666.0</td>\n",
              "      <td>5.0</td>\n",
              "      <td>1.021278e+09</td>\n",
              "      <td>666</td>\n",
              "      <td>Election (1999)</td>\n",
              "      <td>5.0</td>\n",
              "    </tr>\n",
              "    <tr>\n",
              "      <th>4</th>\n",
              "      <td>111617</td>\n",
              "      <td>Blended (2014)</td>\n",
              "      <td>Comedy</td>\n",
              "      <td>664.0</td>\n",
              "      <td>5.0</td>\n",
              "      <td>1.423497e+09</td>\n",
              "      <td>664</td>\n",
              "      <td>Blended (2014)</td>\n",
              "      <td>5.0</td>\n",
              "    </tr>\n",
              "  </tbody>\n",
              "</table>\n",
              "</div>\n",
              "      <button class=\"colab-df-convert\" onclick=\"convertToInteractive('df-d4ca9f8f-6e70-47ed-ac76-108087ef1fe9')\"\n",
              "              title=\"Convert this dataframe to an interactive table.\"\n",
              "              style=\"display:none;\">\n",
              "        \n",
              "  <svg xmlns=\"http://www.w3.org/2000/svg\" height=\"24px\"viewBox=\"0 0 24 24\"\n",
              "       width=\"24px\">\n",
              "    <path d=\"M0 0h24v24H0V0z\" fill=\"none\"/>\n",
              "    <path d=\"M18.56 5.44l.94 2.06.94-2.06 2.06-.94-2.06-.94-.94-2.06-.94 2.06-2.06.94zm-11 1L8.5 8.5l.94-2.06 2.06-.94-2.06-.94L8.5 2.5l-.94 2.06-2.06.94zm10 10l.94 2.06.94-2.06 2.06-.94-2.06-.94-.94-2.06-.94 2.06-2.06.94z\"/><path d=\"M17.41 7.96l-1.37-1.37c-.4-.4-.92-.59-1.43-.59-.52 0-1.04.2-1.43.59L10.3 9.45l-7.72 7.72c-.78.78-.78 2.05 0 2.83L4 21.41c.39.39.9.59 1.41.59.51 0 1.02-.2 1.41-.59l7.78-7.78 2.81-2.81c.8-.78.8-2.07 0-2.86zM5.41 20L4 18.59l7.72-7.72 1.47 1.35L5.41 20z\"/>\n",
              "  </svg>\n",
              "      </button>\n",
              "      \n",
              "  <style>\n",
              "    .colab-df-container {\n",
              "      display:flex;\n",
              "      flex-wrap:wrap;\n",
              "      gap: 12px;\n",
              "    }\n",
              "\n",
              "    .colab-df-convert {\n",
              "      background-color: #E8F0FE;\n",
              "      border: none;\n",
              "      border-radius: 50%;\n",
              "      cursor: pointer;\n",
              "      display: none;\n",
              "      fill: #1967D2;\n",
              "      height: 32px;\n",
              "      padding: 0 0 0 0;\n",
              "      width: 32px;\n",
              "    }\n",
              "\n",
              "    .colab-df-convert:hover {\n",
              "      background-color: #E2EBFA;\n",
              "      box-shadow: 0px 1px 2px rgba(60, 64, 67, 0.3), 0px 1px 3px 1px rgba(60, 64, 67, 0.15);\n",
              "      fill: #174EA6;\n",
              "    }\n",
              "\n",
              "    [theme=dark] .colab-df-convert {\n",
              "      background-color: #3B4455;\n",
              "      fill: #D2E3FC;\n",
              "    }\n",
              "\n",
              "    [theme=dark] .colab-df-convert:hover {\n",
              "      background-color: #434B5C;\n",
              "      box-shadow: 0px 1px 3px 1px rgba(0, 0, 0, 0.15);\n",
              "      filter: drop-shadow(0px 1px 2px rgba(0, 0, 0, 0.3));\n",
              "      fill: #FFFFFF;\n",
              "    }\n",
              "  </style>\n",
              "\n",
              "      <script>\n",
              "        const buttonEl =\n",
              "          document.querySelector('#df-d4ca9f8f-6e70-47ed-ac76-108087ef1fe9 button.colab-df-convert');\n",
              "        buttonEl.style.display =\n",
              "          google.colab.kernel.accessAllowed ? 'block' : 'none';\n",
              "\n",
              "        async function convertToInteractive(key) {\n",
              "          const element = document.querySelector('#df-d4ca9f8f-6e70-47ed-ac76-108087ef1fe9');\n",
              "          const dataTable =\n",
              "            await google.colab.kernel.invokeFunction('convertToInteractive',\n",
              "                                                     [key], {});\n",
              "          if (!dataTable) return;\n",
              "\n",
              "          const docLinkHtml = 'Like what you see? Visit the ' +\n",
              "            '<a target=\"_blank\" href=https://colab.research.google.com/notebooks/data_table.ipynb>data table notebook</a>'\n",
              "            + ' to learn more about interactive tables.';\n",
              "          element.innerHTML = '';\n",
              "          dataTable['output_type'] = 'display_data';\n",
              "          await google.colab.output.renderOutput(dataTable, element);\n",
              "          const docLink = document.createElement('div');\n",
              "          docLink.innerHTML = docLinkHtml;\n",
              "          element.appendChild(docLink);\n",
              "        }\n",
              "      </script>\n",
              "    </div>\n",
              "  </div>\n",
              "  "
            ]
          },
          "metadata": {},
          "execution_count": 18
        }
      ]
    },
    {
      "cell_type": "code",
      "source": [
        "out=out[out[\"userId\"]>=int(th)]\n",
        "out[\"Num Reviews\"]=out.userId.astype(\"int\")\n",
        "out[\"Movie Title\"]=out.title\n",
        "out[\"Average Movie Rating\"]=out.rating.astype(\"float\")\n",
        "out=out.reset_index(drop=True)\n",
        "final=out[[\"Movie Title\",\"Average Movie Rating\",\"Num Reviews\"]].head(re)"
      ],
      "metadata": {
        "id": "MTfm1oGG0lY8"
      },
      "execution_count": null,
      "outputs": []
    },
    {
      "cell_type": "code",
      "source": [
        "final"
      ],
      "metadata": {
        "colab": {
          "base_uri": "https://localhost:8080/",
          "height": 206
        },
        "id": "jasWu-aCax3Z",
        "outputId": "36e49429-1982-418d-d96d-ec85848b922f"
      },
      "execution_count": null,
      "outputs": [
        {
          "output_type": "execute_result",
          "data": {
            "text/plain": [
              "              Movie Title  Average Movie Rating  Num Reviews\n",
              "0           Clerks (1994)                   5.0          666\n",
              "1  Raising Arizona (1987)                   5.0          666\n",
              "2        Jerk, The (1979)                   5.0          666\n",
              "3         Election (1999)                   5.0          666\n",
              "4          Blended (2014)                   5.0          664"
            ],
            "text/html": [
              "\n",
              "  <div id=\"df-695d50f1-3934-4057-bf63-0b417a158064\">\n",
              "    <div class=\"colab-df-container\">\n",
              "      <div>\n",
              "<style scoped>\n",
              "    .dataframe tbody tr th:only-of-type {\n",
              "        vertical-align: middle;\n",
              "    }\n",
              "\n",
              "    .dataframe tbody tr th {\n",
              "        vertical-align: top;\n",
              "    }\n",
              "\n",
              "    .dataframe thead th {\n",
              "        text-align: right;\n",
              "    }\n",
              "</style>\n",
              "<table border=\"1\" class=\"dataframe\">\n",
              "  <thead>\n",
              "    <tr style=\"text-align: right;\">\n",
              "      <th></th>\n",
              "      <th>Movie Title</th>\n",
              "      <th>Average Movie Rating</th>\n",
              "      <th>Num Reviews</th>\n",
              "    </tr>\n",
              "  </thead>\n",
              "  <tbody>\n",
              "    <tr>\n",
              "      <th>0</th>\n",
              "      <td>Clerks (1994)</td>\n",
              "      <td>5.0</td>\n",
              "      <td>666</td>\n",
              "    </tr>\n",
              "    <tr>\n",
              "      <th>1</th>\n",
              "      <td>Raising Arizona (1987)</td>\n",
              "      <td>5.0</td>\n",
              "      <td>666</td>\n",
              "    </tr>\n",
              "    <tr>\n",
              "      <th>2</th>\n",
              "      <td>Jerk, The (1979)</td>\n",
              "      <td>5.0</td>\n",
              "      <td>666</td>\n",
              "    </tr>\n",
              "    <tr>\n",
              "      <th>3</th>\n",
              "      <td>Election (1999)</td>\n",
              "      <td>5.0</td>\n",
              "      <td>666</td>\n",
              "    </tr>\n",
              "    <tr>\n",
              "      <th>4</th>\n",
              "      <td>Blended (2014)</td>\n",
              "      <td>5.0</td>\n",
              "      <td>664</td>\n",
              "    </tr>\n",
              "  </tbody>\n",
              "</table>\n",
              "</div>\n",
              "      <button class=\"colab-df-convert\" onclick=\"convertToInteractive('df-695d50f1-3934-4057-bf63-0b417a158064')\"\n",
              "              title=\"Convert this dataframe to an interactive table.\"\n",
              "              style=\"display:none;\">\n",
              "        \n",
              "  <svg xmlns=\"http://www.w3.org/2000/svg\" height=\"24px\"viewBox=\"0 0 24 24\"\n",
              "       width=\"24px\">\n",
              "    <path d=\"M0 0h24v24H0V0z\" fill=\"none\"/>\n",
              "    <path d=\"M18.56 5.44l.94 2.06.94-2.06 2.06-.94-2.06-.94-.94-2.06-.94 2.06-2.06.94zm-11 1L8.5 8.5l.94-2.06 2.06-.94-2.06-.94L8.5 2.5l-.94 2.06-2.06.94zm10 10l.94 2.06.94-2.06 2.06-.94-2.06-.94-.94-2.06-.94 2.06-2.06.94z\"/><path d=\"M17.41 7.96l-1.37-1.37c-.4-.4-.92-.59-1.43-.59-.52 0-1.04.2-1.43.59L10.3 9.45l-7.72 7.72c-.78.78-.78 2.05 0 2.83L4 21.41c.39.39.9.59 1.41.59.51 0 1.02-.2 1.41-.59l7.78-7.78 2.81-2.81c.8-.78.8-2.07 0-2.86zM5.41 20L4 18.59l7.72-7.72 1.47 1.35L5.41 20z\"/>\n",
              "  </svg>\n",
              "      </button>\n",
              "      \n",
              "  <style>\n",
              "    .colab-df-container {\n",
              "      display:flex;\n",
              "      flex-wrap:wrap;\n",
              "      gap: 12px;\n",
              "    }\n",
              "\n",
              "    .colab-df-convert {\n",
              "      background-color: #E8F0FE;\n",
              "      border: none;\n",
              "      border-radius: 50%;\n",
              "      cursor: pointer;\n",
              "      display: none;\n",
              "      fill: #1967D2;\n",
              "      height: 32px;\n",
              "      padding: 0 0 0 0;\n",
              "      width: 32px;\n",
              "    }\n",
              "\n",
              "    .colab-df-convert:hover {\n",
              "      background-color: #E2EBFA;\n",
              "      box-shadow: 0px 1px 2px rgba(60, 64, 67, 0.3), 0px 1px 3px 1px rgba(60, 64, 67, 0.15);\n",
              "      fill: #174EA6;\n",
              "    }\n",
              "\n",
              "    [theme=dark] .colab-df-convert {\n",
              "      background-color: #3B4455;\n",
              "      fill: #D2E3FC;\n",
              "    }\n",
              "\n",
              "    [theme=dark] .colab-df-convert:hover {\n",
              "      background-color: #434B5C;\n",
              "      box-shadow: 0px 1px 3px 1px rgba(0, 0, 0, 0.15);\n",
              "      filter: drop-shadow(0px 1px 2px rgba(0, 0, 0, 0.3));\n",
              "      fill: #FFFFFF;\n",
              "    }\n",
              "  </style>\n",
              "\n",
              "      <script>\n",
              "        const buttonEl =\n",
              "          document.querySelector('#df-695d50f1-3934-4057-bf63-0b417a158064 button.colab-df-convert');\n",
              "        buttonEl.style.display =\n",
              "          google.colab.kernel.accessAllowed ? 'block' : 'none';\n",
              "\n",
              "        async function convertToInteractive(key) {\n",
              "          const element = document.querySelector('#df-695d50f1-3934-4057-bf63-0b417a158064');\n",
              "          const dataTable =\n",
              "            await google.colab.kernel.invokeFunction('convertToInteractive',\n",
              "                                                     [key], {});\n",
              "          if (!dataTable) return;\n",
              "\n",
              "          const docLinkHtml = 'Like what you see? Visit the ' +\n",
              "            '<a target=\"_blank\" href=https://colab.research.google.com/notebooks/data_table.ipynb>data table notebook</a>'\n",
              "            + ' to learn more about interactive tables.';\n",
              "          element.innerHTML = '';\n",
              "          dataTable['output_type'] = 'display_data';\n",
              "          await google.colab.output.renderOutput(dataTable, element);\n",
              "          const docLink = document.createElement('div');\n",
              "          docLink.innerHTML = docLinkHtml;\n",
              "          element.appendChild(docLink);\n",
              "        }\n",
              "      </script>\n",
              "    </div>\n",
              "  </div>\n",
              "  "
            ]
          },
          "metadata": {},
          "execution_count": 17
        }
      ]
    },
    {
      "cell_type": "markdown",
      "source": [
        "<h1>Content-Based Recommender System</h1>"
      ],
      "metadata": {
        "id": "Scu2ANJN3-zu"
      }
    },
    {
      "cell_type": "code",
      "source": [
        "#ipywidgets.Text() not working in colab so inputs are simply taken by input()\n",
        "mv=input(\"Movie Title (t): \")\n",
        "rec=int(input(\"Num recommendations (N):\"))"
      ],
      "metadata": {
        "colab": {
          "base_uri": "https://localhost:8080/"
        },
        "id": "W319vIjsb3HO",
        "outputId": "7e379010-8bdb-4784-b9f0-f9a2feaa1dae"
      },
      "execution_count": null,
      "outputs": [
        {
          "name": "stdout",
          "output_type": "stream",
          "text": [
            "Movie Title (t): Clerks\n",
            "Num recommendations (N):20\n"
          ]
        }
      ]
    },
    {
      "cell_type": "code",
      "source": [
        "for i in range(0,len(movies)):\n",
        "  Str = movies[\"title\"][i]\n",
        "  l = len(Str)\n",
        "  Remove_last = Str[:l-7]\n",
        "  movies[\"title\"][i]=Remove_last"
      ],
      "metadata": {
        "colab": {
          "base_uri": "https://localhost:8080/"
        },
        "id": "GNBrRGtw5Ow4",
        "outputId": "cec456ab-05e9-4efe-b989-f3da5abdf1f3"
      },
      "execution_count": null,
      "outputs": [
        {
          "output_type": "stream",
          "name": "stderr",
          "text": [
            "/usr/local/lib/python3.7/dist-packages/ipykernel_launcher.py:5: SettingWithCopyWarning: \n",
            "A value is trying to be set on a copy of a slice from a DataFrame\n",
            "\n",
            "See the caveats in the documentation: https://pandas.pydata.org/pandas-docs/stable/user_guide/indexing.html#returning-a-view-versus-a-copy\n",
            "  \"\"\"\n"
          ]
        }
      ]
    },
    {
      "cell_type": "code",
      "source": [
        "n_movies=movies"
      ],
      "metadata": {
        "id": "KuuWezFW7ise"
      },
      "execution_count": null,
      "outputs": []
    },
    {
      "cell_type": "code",
      "source": [
        "movie=n_movies[n_movies[\"title\"]==mv]"
      ],
      "metadata": {
        "id": "ngCpolRr85Sx"
      },
      "execution_count": null,
      "outputs": []
    },
    {
      "cell_type": "code",
      "source": [
        "id=movie[\"movieId\"].tolist()\n",
        "id=id[0]"
      ],
      "metadata": {
        "id": "8c3nBzKv9tdN"
      },
      "execution_count": null,
      "outputs": []
    },
    {
      "cell_type": "code",
      "source": [
        "genre=merged_left[merged_left[\"movieId\"]==id][\"genres\"]"
      ],
      "metadata": {
        "id": "eTutVoVU94bY"
      },
      "execution_count": null,
      "outputs": []
    },
    {
      "cell_type": "code",
      "source": [
        "genre=genre.unique()\n"
      ],
      "metadata": {
        "id": "E4MQXIJHAeBE"
      },
      "execution_count": null,
      "outputs": []
    },
    {
      "cell_type": "code",
      "source": [
        "ge=genre.tolist()[0]"
      ],
      "metadata": {
        "id": "RKAJNi6JCosO"
      },
      "execution_count": null,
      "outputs": []
    },
    {
      "cell_type": "code",
      "source": [
        "out2=merged_left[merged_left[\"genres\"]==ge ].sort_values(by=[\"genres\",\"rating\",\"userId\"], ascending=False)"
      ],
      "metadata": {
        "id": "qjP_KQsn3fCV"
      },
      "execution_count": null,
      "outputs": []
    },
    {
      "cell_type": "code",
      "source": [
        "out3=out2.reset_index(drop=True)\n"
      ],
      "metadata": {
        "id": "3S50Z2SVu03r"
      },
      "execution_count": null,
      "outputs": []
    },
    {
      "cell_type": "code",
      "source": [
        "out3[\"Movie Title\"]=out3[\"title\"]\n",
        "out3=out3[\"Movie Title\"].head(rec)"
      ],
      "metadata": {
        "id": "aC8abvlu46DJ"
      },
      "execution_count": null,
      "outputs": []
    },
    {
      "cell_type": "code",
      "source": [
        "out3=pd.DataFrame(out3)\n",
        "out3"
      ],
      "metadata": {
        "colab": {
          "base_uri": "https://localhost:8080/",
          "height": 676
        },
        "id": "5QWvF3WODnzU",
        "outputId": "c4800d8e-78d6-4b44-888b-1ab3f7ac16cc"
      },
      "execution_count": null,
      "outputs": [
        {
          "output_type": "execute_result",
          "data": {
            "text/plain": [
              "                               Movie Title\n",
              "0                            Clerks (1994)\n",
              "1                   Raising Arizona (1987)\n",
              "2                         Jerk, The (1979)\n",
              "3                          Election (1999)\n",
              "4                           Blended (2014)\n",
              "5                          Ref, The (1994)\n",
              "6                 Cold Comfort Farm (1995)\n",
              "7                      Metropolitan (1990)\n",
              "8                    Producers, The (1968)\n",
              "9                   My Cousin Vinny (1992)\n",
              "10         Ferris Bueller's Day Off (1986)\n",
              "11             Hudsucker Proxy, The (1994)\n",
              "12                           Clerks (1994)\n",
              "13        Robin Hood: Men in Tights (1993)\n",
              "14                 Meet the Parents (2000)\n",
              "15  It's a Mad, Mad, Mad, Mad World (1963)\n",
              "16                 Muriel's Wedding (1994)\n",
              "17            Bullets Over Broadway (1994)\n",
              "18                    Happy Gilmore (1996)\n",
              "19                    Billy Madison (1995)"
            ],
            "text/html": [
              "\n",
              "  <div id=\"df-a2f0691c-d00a-4e43-a312-f4daeafc81b8\">\n",
              "    <div class=\"colab-df-container\">\n",
              "      <div>\n",
              "<style scoped>\n",
              "    .dataframe tbody tr th:only-of-type {\n",
              "        vertical-align: middle;\n",
              "    }\n",
              "\n",
              "    .dataframe tbody tr th {\n",
              "        vertical-align: top;\n",
              "    }\n",
              "\n",
              "    .dataframe thead th {\n",
              "        text-align: right;\n",
              "    }\n",
              "</style>\n",
              "<table border=\"1\" class=\"dataframe\">\n",
              "  <thead>\n",
              "    <tr style=\"text-align: right;\">\n",
              "      <th></th>\n",
              "      <th>Movie Title</th>\n",
              "    </tr>\n",
              "  </thead>\n",
              "  <tbody>\n",
              "    <tr>\n",
              "      <th>0</th>\n",
              "      <td>Clerks (1994)</td>\n",
              "    </tr>\n",
              "    <tr>\n",
              "      <th>1</th>\n",
              "      <td>Raising Arizona (1987)</td>\n",
              "    </tr>\n",
              "    <tr>\n",
              "      <th>2</th>\n",
              "      <td>Jerk, The (1979)</td>\n",
              "    </tr>\n",
              "    <tr>\n",
              "      <th>3</th>\n",
              "      <td>Election (1999)</td>\n",
              "    </tr>\n",
              "    <tr>\n",
              "      <th>4</th>\n",
              "      <td>Blended (2014)</td>\n",
              "    </tr>\n",
              "    <tr>\n",
              "      <th>5</th>\n",
              "      <td>Ref, The (1994)</td>\n",
              "    </tr>\n",
              "    <tr>\n",
              "      <th>6</th>\n",
              "      <td>Cold Comfort Farm (1995)</td>\n",
              "    </tr>\n",
              "    <tr>\n",
              "      <th>7</th>\n",
              "      <td>Metropolitan (1990)</td>\n",
              "    </tr>\n",
              "    <tr>\n",
              "      <th>8</th>\n",
              "      <td>Producers, The (1968)</td>\n",
              "    </tr>\n",
              "    <tr>\n",
              "      <th>9</th>\n",
              "      <td>My Cousin Vinny (1992)</td>\n",
              "    </tr>\n",
              "    <tr>\n",
              "      <th>10</th>\n",
              "      <td>Ferris Bueller's Day Off (1986)</td>\n",
              "    </tr>\n",
              "    <tr>\n",
              "      <th>11</th>\n",
              "      <td>Hudsucker Proxy, The (1994)</td>\n",
              "    </tr>\n",
              "    <tr>\n",
              "      <th>12</th>\n",
              "      <td>Clerks (1994)</td>\n",
              "    </tr>\n",
              "    <tr>\n",
              "      <th>13</th>\n",
              "      <td>Robin Hood: Men in Tights (1993)</td>\n",
              "    </tr>\n",
              "    <tr>\n",
              "      <th>14</th>\n",
              "      <td>Meet the Parents (2000)</td>\n",
              "    </tr>\n",
              "    <tr>\n",
              "      <th>15</th>\n",
              "      <td>It's a Mad, Mad, Mad, Mad World (1963)</td>\n",
              "    </tr>\n",
              "    <tr>\n",
              "      <th>16</th>\n",
              "      <td>Muriel's Wedding (1994)</td>\n",
              "    </tr>\n",
              "    <tr>\n",
              "      <th>17</th>\n",
              "      <td>Bullets Over Broadway (1994)</td>\n",
              "    </tr>\n",
              "    <tr>\n",
              "      <th>18</th>\n",
              "      <td>Happy Gilmore (1996)</td>\n",
              "    </tr>\n",
              "    <tr>\n",
              "      <th>19</th>\n",
              "      <td>Billy Madison (1995)</td>\n",
              "    </tr>\n",
              "  </tbody>\n",
              "</table>\n",
              "</div>\n",
              "      <button class=\"colab-df-convert\" onclick=\"convertToInteractive('df-a2f0691c-d00a-4e43-a312-f4daeafc81b8')\"\n",
              "              title=\"Convert this dataframe to an interactive table.\"\n",
              "              style=\"display:none;\">\n",
              "        \n",
              "  <svg xmlns=\"http://www.w3.org/2000/svg\" height=\"24px\"viewBox=\"0 0 24 24\"\n",
              "       width=\"24px\">\n",
              "    <path d=\"M0 0h24v24H0V0z\" fill=\"none\"/>\n",
              "    <path d=\"M18.56 5.44l.94 2.06.94-2.06 2.06-.94-2.06-.94-.94-2.06-.94 2.06-2.06.94zm-11 1L8.5 8.5l.94-2.06 2.06-.94-2.06-.94L8.5 2.5l-.94 2.06-2.06.94zm10 10l.94 2.06.94-2.06 2.06-.94-2.06-.94-.94-2.06-.94 2.06-2.06.94z\"/><path d=\"M17.41 7.96l-1.37-1.37c-.4-.4-.92-.59-1.43-.59-.52 0-1.04.2-1.43.59L10.3 9.45l-7.72 7.72c-.78.78-.78 2.05 0 2.83L4 21.41c.39.39.9.59 1.41.59.51 0 1.02-.2 1.41-.59l7.78-7.78 2.81-2.81c.8-.78.8-2.07 0-2.86zM5.41 20L4 18.59l7.72-7.72 1.47 1.35L5.41 20z\"/>\n",
              "  </svg>\n",
              "      </button>\n",
              "      \n",
              "  <style>\n",
              "    .colab-df-container {\n",
              "      display:flex;\n",
              "      flex-wrap:wrap;\n",
              "      gap: 12px;\n",
              "    }\n",
              "\n",
              "    .colab-df-convert {\n",
              "      background-color: #E8F0FE;\n",
              "      border: none;\n",
              "      border-radius: 50%;\n",
              "      cursor: pointer;\n",
              "      display: none;\n",
              "      fill: #1967D2;\n",
              "      height: 32px;\n",
              "      padding: 0 0 0 0;\n",
              "      width: 32px;\n",
              "    }\n",
              "\n",
              "    .colab-df-convert:hover {\n",
              "      background-color: #E2EBFA;\n",
              "      box-shadow: 0px 1px 2px rgba(60, 64, 67, 0.3), 0px 1px 3px 1px rgba(60, 64, 67, 0.15);\n",
              "      fill: #174EA6;\n",
              "    }\n",
              "\n",
              "    [theme=dark] .colab-df-convert {\n",
              "      background-color: #3B4455;\n",
              "      fill: #D2E3FC;\n",
              "    }\n",
              "\n",
              "    [theme=dark] .colab-df-convert:hover {\n",
              "      background-color: #434B5C;\n",
              "      box-shadow: 0px 1px 3px 1px rgba(0, 0, 0, 0.15);\n",
              "      filter: drop-shadow(0px 1px 2px rgba(0, 0, 0, 0.3));\n",
              "      fill: #FFFFFF;\n",
              "    }\n",
              "  </style>\n",
              "\n",
              "      <script>\n",
              "        const buttonEl =\n",
              "          document.querySelector('#df-a2f0691c-d00a-4e43-a312-f4daeafc81b8 button.colab-df-convert');\n",
              "        buttonEl.style.display =\n",
              "          google.colab.kernel.accessAllowed ? 'block' : 'none';\n",
              "\n",
              "        async function convertToInteractive(key) {\n",
              "          const element = document.querySelector('#df-a2f0691c-d00a-4e43-a312-f4daeafc81b8');\n",
              "          const dataTable =\n",
              "            await google.colab.kernel.invokeFunction('convertToInteractive',\n",
              "                                                     [key], {});\n",
              "          if (!dataTable) return;\n",
              "\n",
              "          const docLinkHtml = 'Like what you see? Visit the ' +\n",
              "            '<a target=\"_blank\" href=https://colab.research.google.com/notebooks/data_table.ipynb>data table notebook</a>'\n",
              "            + ' to learn more about interactive tables.';\n",
              "          element.innerHTML = '';\n",
              "          dataTable['output_type'] = 'display_data';\n",
              "          await google.colab.output.renderOutput(dataTable, element);\n",
              "          const docLink = document.createElement('div');\n",
              "          docLink.innerHTML = docLinkHtml;\n",
              "          element.appendChild(docLink);\n",
              "        }\n",
              "      </script>\n",
              "    </div>\n",
              "  </div>\n",
              "  "
            ]
          },
          "metadata": {},
          "execution_count": 22
        }
      ]
    },
    {
      "cell_type": "markdown",
      "source": [
        "<h1>Collaborative Based Recommender System</h1>"
      ],
      "metadata": {
        "id": "S4z5ppeZ3yp-"
      }
    },
    {
      "cell_type": "code",
      "source": [
        "#ipywidgets.Text() not working in colab so inputs are simply taken by input()\n",
        "usr=int(input(\"UserID:\"))\n",
        "rec=int(input(\"Num recommendations(N):\"))\n",
        "thr=int(input(\"Threshold for similar users (k):\"))"
      ],
      "metadata": {
        "colab": {
          "base_uri": "https://localhost:8080/"
        },
        "id": "KelZH9Ne1Cro",
        "outputId": "93d3a3be-c3ea-4178-b351-1a1493ebc11a"
      },
      "execution_count": null,
      "outputs": [
        {
          "name": "stdout",
          "output_type": "stream",
          "text": [
            "UserID:100\n",
            "Num recommendations(N):50\n",
            "Threshold for similar users (k):20\n"
          ]
        }
      ]
    },
    {
      "cell_type": "code",
      "source": [
        "usr_mv=merged_left[merged_left[\"userId\"]==usr][[\"title\",\"userId\"]]"
      ],
      "metadata": {
        "id": "Nzjtgk5clpT0"
      },
      "execution_count": null,
      "outputs": []
    },
    {
      "cell_type": "code",
      "source": [
        "a=usr_mv.title.tolist()\n",
        "diff_usr=merged_left[merged_left[\"title\"]==a[0]]\n",
        "for i in range(1,len(a)):\n",
        "  diff_usr=diff_usr.append(merged_left[merged_left[\"title\"]==a[i]])"
      ],
      "metadata": {
        "id": "wwercRVopZSS"
      },
      "execution_count": null,
      "outputs": []
    },
    {
      "cell_type": "code",
      "source": [
        "diff_usr=diff_usr[\"userId\"].unique()"
      ],
      "metadata": {
        "id": "h3Lq-cBDm4GT"
      },
      "execution_count": null,
      "outputs": []
    },
    {
      "cell_type": "code",
      "source": [
        "diff_usr=diff_usr.tolist()"
      ],
      "metadata": {
        "id": "P-Sf89Hxv32_"
      },
      "execution_count": null,
      "outputs": []
    },
    {
      "cell_type": "code",
      "source": [
        "diff_usr=diff_usr[:thr]\n",
        "sg_mv=merged_left[merged_left[\"userId\"]==diff_usr[0]]\n",
        "for i in range(1,len(diff_usr)):\n",
        "  sg_mv=sg_mv.append(merged_left[merged_left[\"userId\"]==diff_usr[i]])"
      ],
      "metadata": {
        "id": "s3dkyqvQwRtI"
      },
      "execution_count": null,
      "outputs": []
    },
    {
      "cell_type": "code",
      "source": [
        "sg_mv=sg_mv.reset_index(drop=True)"
      ],
      "metadata": {
        "id": "qD6DvfFOzC2Z"
      },
      "execution_count": null,
      "outputs": []
    },
    {
      "cell_type": "code",
      "source": [
        "sg_mv=sg_mv[\"title\"].unique()"
      ],
      "metadata": {
        "id": "_U14Qk0YyKm-"
      },
      "execution_count": null,
      "outputs": []
    },
    {
      "cell_type": "code",
      "source": [
        "sg_mv=pd.DataFrame(sg_mv,columns=[\"Movie Title\"])"
      ],
      "metadata": {
        "id": "KhIyZHRYyvnL"
      },
      "execution_count": null,
      "outputs": []
    },
    {
      "cell_type": "code",
      "source": [
        "sg_mv.head(rec)"
      ],
      "metadata": {
        "colab": {
          "base_uri": "https://localhost:8080/",
          "height": 1000
        },
        "id": "TeXFivEq1Ti-",
        "outputId": "e86fba06-665f-48d4-f830-29f66f7b7495"
      },
      "execution_count": null,
      "outputs": [
        {
          "output_type": "execute_result",
          "data": {
            "text/plain": [
              "                                          Movie Title\n",
              "0                                    Toy Story (1995)\n",
              "1                             Grumpier Old Men (1995)\n",
              "2                  Father of the Bride Part II (1995)\n",
              "3                                        Nixon (1995)\n",
              "4                        Sense and Sensibility (1995)\n",
              "5                            Leaving Las Vegas (1995)\n",
              "6           Twelve Monkeys (a.k.a. 12 Monkeys) (1995)\n",
              "7                             Dead Man Walking (1995)\n",
              "8                             Mighty Aphrodite (1995)\n",
              "9                   Postman, The (Postino, Il) (1994)\n",
              "10                          Mr. Holland's Opus (1995)\n",
              "11                                  Juror, The (1996)\n",
              "12                                Broken Arrow (1996)\n",
              "13         Rumble in the Bronx (Hont faan kui) (1995)\n",
              "14          Star Wars: Episode IV - A New Hope (1977)\n",
              "15                             River Wild, The (1994)\n",
              "16                          Executive Decision (1996)\n",
              "17                                       Fargo (1996)\n",
              "18                                  Sgt. Bilko (1996)\n",
              "19                         Mission: Impossible (1996)\n",
              "20                   James and the Giant Peach (1996)\n",
              "21                                     Twister (1996)\n",
              "22               Independence Day (a.k.a. ID4) (1996)\n",
              "23                              Cable Guy, The (1996)\n",
              "24                        Nutty Professor, The (1996)\n",
              "25                                  Phenomenon (1996)\n",
              "26                             Time to Kill, A (1996)\n",
              "27         Willy Wonka & the Chocolate Factory (1971)\n",
              "28                    Star Trek: First Contact (1996)\n",
              "29  Don't Be a Menace to South Central While Drink...\n",
              "30                                  Braveheart (1995)\n",
              "31                                     Hackers (1995)\n",
              "32                                        Kids (1995)\n",
              "33             Dumb & Dumber (Dumb and Dumber) (1994)\n",
              "34                               Shallow Grave (1994)\n",
              "35                  Ace Ventura: Pet Detective (1994)\n",
              "36                              Lion King, The (1994)\n",
              "37                               Jurassic Park (1993)\n",
              "38                              Mrs. Doubtfire (1993)\n",
              "39                                     Aladdin (1992)\n",
              "40                                      Batman (1989)\n",
              "41                        Beauty and the Beast (1991)\n",
              "42                               Trainspotting (1996)\n",
              "43                                  Old Yeller (1957)\n",
              "44                         Clockwork Orange, A (1971)\n",
              "45  Austin Powers: International Man of Mystery (1...\n",
              "46                   Men in Black (a.k.a. MIB) (1997)\n",
              "47                                       Mulan (1998)\n",
              "48                        Return of Jafar, The (1994)\n",
              "49                              Producers, The (1968)"
            ],
            "text/html": [
              "\n",
              "  <div id=\"df-abc07376-edf3-4e26-82f9-859a716571ab\">\n",
              "    <div class=\"colab-df-container\">\n",
              "      <div>\n",
              "<style scoped>\n",
              "    .dataframe tbody tr th:only-of-type {\n",
              "        vertical-align: middle;\n",
              "    }\n",
              "\n",
              "    .dataframe tbody tr th {\n",
              "        vertical-align: top;\n",
              "    }\n",
              "\n",
              "    .dataframe thead th {\n",
              "        text-align: right;\n",
              "    }\n",
              "</style>\n",
              "<table border=\"1\" class=\"dataframe\">\n",
              "  <thead>\n",
              "    <tr style=\"text-align: right;\">\n",
              "      <th></th>\n",
              "      <th>Movie Title</th>\n",
              "    </tr>\n",
              "  </thead>\n",
              "  <tbody>\n",
              "    <tr>\n",
              "      <th>0</th>\n",
              "      <td>Toy Story (1995)</td>\n",
              "    </tr>\n",
              "    <tr>\n",
              "      <th>1</th>\n",
              "      <td>Grumpier Old Men (1995)</td>\n",
              "    </tr>\n",
              "    <tr>\n",
              "      <th>2</th>\n",
              "      <td>Father of the Bride Part II (1995)</td>\n",
              "    </tr>\n",
              "    <tr>\n",
              "      <th>3</th>\n",
              "      <td>Nixon (1995)</td>\n",
              "    </tr>\n",
              "    <tr>\n",
              "      <th>4</th>\n",
              "      <td>Sense and Sensibility (1995)</td>\n",
              "    </tr>\n",
              "    <tr>\n",
              "      <th>5</th>\n",
              "      <td>Leaving Las Vegas (1995)</td>\n",
              "    </tr>\n",
              "    <tr>\n",
              "      <th>6</th>\n",
              "      <td>Twelve Monkeys (a.k.a. 12 Monkeys) (1995)</td>\n",
              "    </tr>\n",
              "    <tr>\n",
              "      <th>7</th>\n",
              "      <td>Dead Man Walking (1995)</td>\n",
              "    </tr>\n",
              "    <tr>\n",
              "      <th>8</th>\n",
              "      <td>Mighty Aphrodite (1995)</td>\n",
              "    </tr>\n",
              "    <tr>\n",
              "      <th>9</th>\n",
              "      <td>Postman, The (Postino, Il) (1994)</td>\n",
              "    </tr>\n",
              "    <tr>\n",
              "      <th>10</th>\n",
              "      <td>Mr. Holland's Opus (1995)</td>\n",
              "    </tr>\n",
              "    <tr>\n",
              "      <th>11</th>\n",
              "      <td>Juror, The (1996)</td>\n",
              "    </tr>\n",
              "    <tr>\n",
              "      <th>12</th>\n",
              "      <td>Broken Arrow (1996)</td>\n",
              "    </tr>\n",
              "    <tr>\n",
              "      <th>13</th>\n",
              "      <td>Rumble in the Bronx (Hont faan kui) (1995)</td>\n",
              "    </tr>\n",
              "    <tr>\n",
              "      <th>14</th>\n",
              "      <td>Star Wars: Episode IV - A New Hope (1977)</td>\n",
              "    </tr>\n",
              "    <tr>\n",
              "      <th>15</th>\n",
              "      <td>River Wild, The (1994)</td>\n",
              "    </tr>\n",
              "    <tr>\n",
              "      <th>16</th>\n",
              "      <td>Executive Decision (1996)</td>\n",
              "    </tr>\n",
              "    <tr>\n",
              "      <th>17</th>\n",
              "      <td>Fargo (1996)</td>\n",
              "    </tr>\n",
              "    <tr>\n",
              "      <th>18</th>\n",
              "      <td>Sgt. Bilko (1996)</td>\n",
              "    </tr>\n",
              "    <tr>\n",
              "      <th>19</th>\n",
              "      <td>Mission: Impossible (1996)</td>\n",
              "    </tr>\n",
              "    <tr>\n",
              "      <th>20</th>\n",
              "      <td>James and the Giant Peach (1996)</td>\n",
              "    </tr>\n",
              "    <tr>\n",
              "      <th>21</th>\n",
              "      <td>Twister (1996)</td>\n",
              "    </tr>\n",
              "    <tr>\n",
              "      <th>22</th>\n",
              "      <td>Independence Day (a.k.a. ID4) (1996)</td>\n",
              "    </tr>\n",
              "    <tr>\n",
              "      <th>23</th>\n",
              "      <td>Cable Guy, The (1996)</td>\n",
              "    </tr>\n",
              "    <tr>\n",
              "      <th>24</th>\n",
              "      <td>Nutty Professor, The (1996)</td>\n",
              "    </tr>\n",
              "    <tr>\n",
              "      <th>25</th>\n",
              "      <td>Phenomenon (1996)</td>\n",
              "    </tr>\n",
              "    <tr>\n",
              "      <th>26</th>\n",
              "      <td>Time to Kill, A (1996)</td>\n",
              "    </tr>\n",
              "    <tr>\n",
              "      <th>27</th>\n",
              "      <td>Willy Wonka &amp; the Chocolate Factory (1971)</td>\n",
              "    </tr>\n",
              "    <tr>\n",
              "      <th>28</th>\n",
              "      <td>Star Trek: First Contact (1996)</td>\n",
              "    </tr>\n",
              "    <tr>\n",
              "      <th>29</th>\n",
              "      <td>Don't Be a Menace to South Central While Drink...</td>\n",
              "    </tr>\n",
              "    <tr>\n",
              "      <th>30</th>\n",
              "      <td>Braveheart (1995)</td>\n",
              "    </tr>\n",
              "    <tr>\n",
              "      <th>31</th>\n",
              "      <td>Hackers (1995)</td>\n",
              "    </tr>\n",
              "    <tr>\n",
              "      <th>32</th>\n",
              "      <td>Kids (1995)</td>\n",
              "    </tr>\n",
              "    <tr>\n",
              "      <th>33</th>\n",
              "      <td>Dumb &amp; Dumber (Dumb and Dumber) (1994)</td>\n",
              "    </tr>\n",
              "    <tr>\n",
              "      <th>34</th>\n",
              "      <td>Shallow Grave (1994)</td>\n",
              "    </tr>\n",
              "    <tr>\n",
              "      <th>35</th>\n",
              "      <td>Ace Ventura: Pet Detective (1994)</td>\n",
              "    </tr>\n",
              "    <tr>\n",
              "      <th>36</th>\n",
              "      <td>Lion King, The (1994)</td>\n",
              "    </tr>\n",
              "    <tr>\n",
              "      <th>37</th>\n",
              "      <td>Jurassic Park (1993)</td>\n",
              "    </tr>\n",
              "    <tr>\n",
              "      <th>38</th>\n",
              "      <td>Mrs. Doubtfire (1993)</td>\n",
              "    </tr>\n",
              "    <tr>\n",
              "      <th>39</th>\n",
              "      <td>Aladdin (1992)</td>\n",
              "    </tr>\n",
              "    <tr>\n",
              "      <th>40</th>\n",
              "      <td>Batman (1989)</td>\n",
              "    </tr>\n",
              "    <tr>\n",
              "      <th>41</th>\n",
              "      <td>Beauty and the Beast (1991)</td>\n",
              "    </tr>\n",
              "    <tr>\n",
              "      <th>42</th>\n",
              "      <td>Trainspotting (1996)</td>\n",
              "    </tr>\n",
              "    <tr>\n",
              "      <th>43</th>\n",
              "      <td>Old Yeller (1957)</td>\n",
              "    </tr>\n",
              "    <tr>\n",
              "      <th>44</th>\n",
              "      <td>Clockwork Orange, A (1971)</td>\n",
              "    </tr>\n",
              "    <tr>\n",
              "      <th>45</th>\n",
              "      <td>Austin Powers: International Man of Mystery (1...</td>\n",
              "    </tr>\n",
              "    <tr>\n",
              "      <th>46</th>\n",
              "      <td>Men in Black (a.k.a. MIB) (1997)</td>\n",
              "    </tr>\n",
              "    <tr>\n",
              "      <th>47</th>\n",
              "      <td>Mulan (1998)</td>\n",
              "    </tr>\n",
              "    <tr>\n",
              "      <th>48</th>\n",
              "      <td>Return of Jafar, The (1994)</td>\n",
              "    </tr>\n",
              "    <tr>\n",
              "      <th>49</th>\n",
              "      <td>Producers, The (1968)</td>\n",
              "    </tr>\n",
              "  </tbody>\n",
              "</table>\n",
              "</div>\n",
              "      <button class=\"colab-df-convert\" onclick=\"convertToInteractive('df-abc07376-edf3-4e26-82f9-859a716571ab')\"\n",
              "              title=\"Convert this dataframe to an interactive table.\"\n",
              "              style=\"display:none;\">\n",
              "        \n",
              "  <svg xmlns=\"http://www.w3.org/2000/svg\" height=\"24px\"viewBox=\"0 0 24 24\"\n",
              "       width=\"24px\">\n",
              "    <path d=\"M0 0h24v24H0V0z\" fill=\"none\"/>\n",
              "    <path d=\"M18.56 5.44l.94 2.06.94-2.06 2.06-.94-2.06-.94-.94-2.06-.94 2.06-2.06.94zm-11 1L8.5 8.5l.94-2.06 2.06-.94-2.06-.94L8.5 2.5l-.94 2.06-2.06.94zm10 10l.94 2.06.94-2.06 2.06-.94-2.06-.94-.94-2.06-.94 2.06-2.06.94z\"/><path d=\"M17.41 7.96l-1.37-1.37c-.4-.4-.92-.59-1.43-.59-.52 0-1.04.2-1.43.59L10.3 9.45l-7.72 7.72c-.78.78-.78 2.05 0 2.83L4 21.41c.39.39.9.59 1.41.59.51 0 1.02-.2 1.41-.59l7.78-7.78 2.81-2.81c.8-.78.8-2.07 0-2.86zM5.41 20L4 18.59l7.72-7.72 1.47 1.35L5.41 20z\"/>\n",
              "  </svg>\n",
              "      </button>\n",
              "      \n",
              "  <style>\n",
              "    .colab-df-container {\n",
              "      display:flex;\n",
              "      flex-wrap:wrap;\n",
              "      gap: 12px;\n",
              "    }\n",
              "\n",
              "    .colab-df-convert {\n",
              "      background-color: #E8F0FE;\n",
              "      border: none;\n",
              "      border-radius: 50%;\n",
              "      cursor: pointer;\n",
              "      display: none;\n",
              "      fill: #1967D2;\n",
              "      height: 32px;\n",
              "      padding: 0 0 0 0;\n",
              "      width: 32px;\n",
              "    }\n",
              "\n",
              "    .colab-df-convert:hover {\n",
              "      background-color: #E2EBFA;\n",
              "      box-shadow: 0px 1px 2px rgba(60, 64, 67, 0.3), 0px 1px 3px 1px rgba(60, 64, 67, 0.15);\n",
              "      fill: #174EA6;\n",
              "    }\n",
              "\n",
              "    [theme=dark] .colab-df-convert {\n",
              "      background-color: #3B4455;\n",
              "      fill: #D2E3FC;\n",
              "    }\n",
              "\n",
              "    [theme=dark] .colab-df-convert:hover {\n",
              "      background-color: #434B5C;\n",
              "      box-shadow: 0px 1px 3px 1px rgba(0, 0, 0, 0.15);\n",
              "      filter: drop-shadow(0px 1px 2px rgba(0, 0, 0, 0.3));\n",
              "      fill: #FFFFFF;\n",
              "    }\n",
              "  </style>\n",
              "\n",
              "      <script>\n",
              "        const buttonEl =\n",
              "          document.querySelector('#df-abc07376-edf3-4e26-82f9-859a716571ab button.colab-df-convert');\n",
              "        buttonEl.style.display =\n",
              "          google.colab.kernel.accessAllowed ? 'block' : 'none';\n",
              "\n",
              "        async function convertToInteractive(key) {\n",
              "          const element = document.querySelector('#df-abc07376-edf3-4e26-82f9-859a716571ab');\n",
              "          const dataTable =\n",
              "            await google.colab.kernel.invokeFunction('convertToInteractive',\n",
              "                                                     [key], {});\n",
              "          if (!dataTable) return;\n",
              "\n",
              "          const docLinkHtml = 'Like what you see? Visit the ' +\n",
              "            '<a target=\"_blank\" href=https://colab.research.google.com/notebooks/data_table.ipynb>data table notebook</a>'\n",
              "            + ' to learn more about interactive tables.';\n",
              "          element.innerHTML = '';\n",
              "          dataTable['output_type'] = 'display_data';\n",
              "          await google.colab.output.renderOutput(dataTable, element);\n",
              "          const docLink = document.createElement('div');\n",
              "          docLink.innerHTML = docLinkHtml;\n",
              "          element.appendChild(docLink);\n",
              "        }\n",
              "      </script>\n",
              "    </div>\n",
              "  </div>\n",
              "  "
            ]
          },
          "metadata": {},
          "execution_count": 32
        }
      ]
    }
  ]
}